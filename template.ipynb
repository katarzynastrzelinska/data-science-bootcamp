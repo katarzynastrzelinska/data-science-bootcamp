{
  "nbformat": 4,
  "nbformat_minor": 0,
  "metadata": {
    "colab": {
      "provenance": [],
      "authorship_tag": "ABX9TyOsr1ASyMJiwHgpe1UBN+mw",
      "include_colab_link": true
    },
    "kernelspec": {
      "name": "python3",
      "display_name": "Python 3"
    },
    "language_info": {
      "name": "python"
    }
  },
  "cells": [
    {
      "cell_type": "markdown",
      "metadata": {
        "id": "view-in-github",
        "colab_type": "text"
      },
      "source": [
        "<a href=\"https://colab.research.google.com/github/katarzynastrzelinska/data-science-bootcamp/blob/main/template.ipynb\" target=\"_parent\"><img src=\"https://colab.research.google.com/assets/colab-badge.svg\" alt=\"Open In Colab\"/></a>"
      ]
    },
    {
      "cell_type": "code",
      "execution_count": 1,
      "metadata": {
        "id": "nI8IZqUkNIKH",
        "colab": {
          "base_uri": "https://localhost:8080/"
        },
        "outputId": "789731c6-06e1-4374-8a54-9ac146e1cb07"
      },
      "outputs": [
        {
          "output_type": "stream",
          "name": "stdout",
          "text": [
            "Hello Colab\n"
          ]
        }
      ],
      "source": [
        "print('Hello Colab')"
      ]
    },
    {
      "cell_type": "code",
      "source": [
        "### tekst"
      ],
      "metadata": {
        "id": "Ea6GQtu3VJb6"
      },
      "execution_count": 2,
      "outputs": []
    },
    {
      "cell_type": "markdown",
      "source": [
        "### tekst"
      ],
      "metadata": {
        "id": "GW2gBU9JVgg5"
      }
    },
    {
      "cell_type": "code",
      "source": [],
      "metadata": {
        "id": "UiVujp2nVbb8"
      },
      "execution_count": null,
      "outputs": []
    },
    {
      "cell_type": "code",
      "source": [],
      "metadata": {
        "id": "3YDRiqjRVPc0"
      },
      "execution_count": null,
      "outputs": []
    }
  ]
}